{
 "cells": [
  {
   "cell_type": "code",
   "execution_count": 114,
   "metadata": {},
   "outputs": [],
   "source": [
    "# import libraries and initialize global variables\n",
    "import sys"
   ]
  },
  {
   "cell_type": "code",
   "execution_count": 115,
   "metadata": {},
   "outputs": [
    {
     "data": {
      "text/plain": [
       "['%%%%%%%', '%    P%', '% %%% %', '%  %  %', '%%   %%', '%. %%%%', '%%%%%%%']"
      ]
     },
     "execution_count": 115,
     "metadata": {},
     "output_type": "execute_result"
    }
   ],
   "source": [
    "# read text file and create a 2D list of the maze\n",
    "with open(\"maps/new_map/single/tinyMaze.txt\") as f:\n",
    "    data = f.readlines()\n",
    "    data = [x.strip() for x in data]\n",
    "data"
   ]
  },
  {
   "cell_type": "code",
   "execution_count": 116,
   "metadata": {},
   "outputs": [],
   "source": [
    "start = (0,0)\n",
    "end = (0,0)\n",
    "rows = 0\n",
    "cols = 0\n",
    "num_nodes = 0\n",
    "num_steps = 0"
   ]
  },
  {
   "cell_type": "code",
   "execution_count": 117,
   "metadata": {},
   "outputs": [],
   "source": [
    "rows = len(data) #initialize row number\n",
    "cols = len(data[0]) #initialize column number\n",
    "maze = [] # initialize empyty maze\n",
    "\n",
    "# fill maze and store the start and end value in corrsponding variables\n",
    "for i in range(0,rows):\n",
    "    maze.append([])\n",
    "    for j in range(0,cols):\n",
    "        maze[i].append(data[i][j])\n",
    "        if data[i][j]=='P':\n",
    "            start = (i,j)\n",
    "        if data[i][j] == '.':\n",
    "            end = (i,j)"
   ]
  },
  {
   "cell_type": "code",
   "execution_count": 118,
   "metadata": {},
   "outputs": [],
   "source": [
    "# the fuction takes the input as a maze and returns a list of\n",
    "# nodes that Pacman can travel \n",
    "def find_neighbours(graph,node):\n",
    "    x = node[0]\n",
    "    y = node[1]\n",
    "    neighbours = []\n",
    "    if(graph[x-1][y] != \"%\"): #UP\n",
    "        neighbours.append((x-1,y))\n",
    "    if(graph[x][y+1] != \"%\"): #RIGHT\n",
    "        neighbours.append((x,y+1))\n",
    "    if(graph[x+1][y] != \"%\"): #DOWN\n",
    "        neighbours.append((x+1,y))\n",
    "    if(graph[x][y-1] != \"%\"): #LEFT\n",
    "        neighbours.append((x,y-1))\n",
    "    return neighbours"
   ]
  },
  {
   "cell_type": "code",
   "execution_count": 119,
   "metadata": {},
   "outputs": [],
   "source": [
    "def find_path(start,end,parent_map):\n",
    "    sol = [end]\n",
    "    temp = parent_map[end]\n",
    "    while(temp != start):\n",
    "        sol.append(temp)\n",
    "        temp = parent_map[temp]\n",
    "    sol.append(start)\n",
    "    return sol[::-1]\n",
    "\n",
    "def bfs(maze):\n",
    "    \"\"\"\n",
    "    Runs BFS for part 1 of the assignment.\n",
    "\n",
    "    @param maze: The maze to execute the search on.\n",
    "\n",
    "    @return path: a list of tuples containing the coordinates of each state in the computed path\n",
    "    \"\"\"\n",
    "    # TODO: Write your code here\n",
    "\n",
    "    visited = set()\n",
    "    start_node = start\n",
    "    queue = [start_node]\n",
    "    end_node = end\n",
    "    parent_map = {}\n",
    "    visited.add(start_node)\n",
    "    \n",
    "    while(len(queue)>0):\n",
    "        node = queue.pop(0)\n",
    "        if(node == end_node):\n",
    "            return find_path(start_node,end_node,parent_map) \n",
    "        for nbr in find_neighbours(maze,node):\n",
    "            if nbr not in visited:\n",
    "                visited.add(nbr)\n",
    "                queue.append(nbr)\n",
    "                parent_map[nbr] = node\n",
    "    return []"
   ]
  },
  {
   "cell_type": "code",
   "execution_count": 120,
   "metadata": {},
   "outputs": [
    {
     "name": "stdout",
     "output_type": "stream",
     "text": [
      "%%%%%%%\n",
      "%    .%\n",
      "% %%%.%\n",
      "%  %..%\n",
      "%%...%%\n",
      "%..%%%%\n",
      "%%%%%%%\n"
     ]
    }
   ],
   "source": [
    "sol = bfs(maze)\n",
    "for i in sol:\n",
    "        maze[i[0]][i[1]] = '.'\n",
    "for i in range(0,rows):\n",
    "    for j in range(0,cols):\n",
    "        sys.stdout.write(maze[i][j])\n",
    "    sys.stdout.write('\\n')"
   ]
  },
  {
   "cell_type": "code",
   "execution_count": 121,
   "metadata": {},
   "outputs": [],
   "source": [
    "from queue import PriorityQueue"
   ]
  },
  {
   "cell_type": "code",
   "execution_count": 126,
   "metadata": {},
   "outputs": [],
   "source": [
    "def manhattanDistance(start,end):\n",
    "    return abs(start[0]-end[0])+abs(start[1]-end[1])\n",
    "\n",
    "def astar(maze):\n",
    "    open_set = PriorityQueue()\n",
    "    closed_set = set()\n",
    "    g_map = {}\n",
    "    start_node = start\n",
    "    end_node = end\n",
    "    parent_map = {}\n",
    "    \n",
    "    open_set.put((manhattanDistance(start_node,end_node),start_node))\n",
    "    g_map[start_node] = 0\n",
    "    \n",
    "    while(len(open_set.queue)>0):\n",
    "        print(\"QUEUE: \"+str(open_set.queue))\n",
    "        print(\"CLOSED SET: \"+str(closed_set))\n",
    "        print(\"NODE: \"+str(node))\n",
    "        print(\"NEIGHBOURS: \"+str(find_neighbours(maze,node)))\n",
    "        input()\n",
    "        node = open_set.get()[1]\n",
    "        if(node == end_node):\n",
    "            return find_path(start_node,end_node,parent_map)\n",
    "        closed_set.add(node)\n",
    "        for nbr in find_neighbours(maze,node):\n",
    "            if nbr not in closed_set:\n",
    "                parent_map[nbr] = node\n",
    "                g_map[nbr] = g_map[node] + 1\n",
    "                open_set.put((g_map[nbr]+manhattanDistance(nbr,end_node),nbr))\n",
    "    return []"
   ]
  },
  {
   "cell_type": "code",
   "execution_count": null,
   "metadata": {},
   "outputs": [
    {
     "name": "stdout",
     "output_type": "stream",
     "text": [
      "QUEUE: [(8, (1, 5))]\n",
      "CLOSED SET: set()\n",
      "G MAP: {(1, 5): 0}\n",
      "\n",
      "QUEUE: [(8, (1, 4)), (8, (2, 5))]\n",
      "CLOSED SET: {(1, 5)}\n",
      "G MAP: {(1, 5): 0, (2, 5): 1, (1, 4): 1}\n"
     ]
    }
   ],
   "source": [
    "sol = astar(maze)\n",
    "# for i in sol:\n",
    "#         maze[i[0]][i[1]] = '.'\n",
    "for i in range(0,rows):\n",
    "    for j in range(0,cols):\n",
    "        sys.stdout.write(maze[i][j])\n",
    "    sys.stdout.write('\\n')"
   ]
  }
 ],
 "metadata": {
  "kernelspec": {
   "display_name": "Python 3",
   "language": "python",
   "name": "python3"
  },
  "language_info": {
   "codemirror_mode": {
    "name": "ipython",
    "version": 3
   },
   "file_extension": ".py",
   "mimetype": "text/x-python",
   "name": "python",
   "nbconvert_exporter": "python",
   "pygments_lexer": "ipython3",
   "version": "3.7.7"
  }
 },
 "nbformat": 4,
 "nbformat_minor": 4
}
